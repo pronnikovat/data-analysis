{
 "cells": [
  {
   "cell_type": "markdown",
   "metadata": {},
   "source": [
    "Дано два листа. Написать функцию возвращающую уникальные элементы, которые встречаются и в первом, и во втором листе.\n",
    "На входе: первый и второй лист. На выходе: лист элементов.\n",
    "Решение оформить в виде функции и вызывающего её кода."
   ]
  },
  {
   "cell_type": "code",
   "execution_count": 1,
   "metadata": {},
   "outputs": [],
   "source": [
    "def find_unique(first_list, second_list):\n",
    "    return list(set(first_list) & set(second_list))"
   ]
  },
  {
   "cell_type": "code",
   "execution_count": 5,
   "metadata": {
    "scrolled": true
   },
   "outputs": [
    {
     "name": "stderr",
     "output_type": "stream",
     "text": [
      ".\n",
      "----------------------------------------------------------------------\n",
      "Ran 1 test in 0.001s\n",
      "\n",
      "OK\n"
     ]
    }
   ],
   "source": [
    "import unittest\n",
    "\n",
    "\n",
    "class Test(unittest.TestCase):\n",
    "    def test_find_unique(self):\n",
    "        self.assertEqual(find_unique([1, 3, 4], [1, 1, 1, 3, 3]), [1, 3])\n",
    "        self.assertEqual(find_unique([1, 3, 4], [1, 1, 4, 3, 3]), [1, 3, 4])\n",
    "        self.assertEqual(find_unique([2, 5, 5], [2, 5, 5]), [2, 5])\n",
    "        self.assertEqual(find_unique(['a', 'b', 'a', 'c'], ['a', 'a', 'a']), ['a'])\n",
    "        self.assertEqual(find_unique(['asd', 'b', 'c'], ['c', 'asd', 'a']), ['asd', 'c'])\n",
    "\n",
    "\n",
    "if __name__ == '__main__':\n",
    "    unittest.main(argv=['first-arg-is-ignored'], exit=False)"
   ]
  }
 ],
 "metadata": {
  "kernelspec": {
   "display_name": "Python 3",
   "language": "python",
   "name": "python3"
  },
  "language_info": {
   "codemirror_mode": {
    "name": "ipython",
    "version": 3
   },
   "file_extension": ".py",
   "mimetype": "text/x-python",
   "name": "python",
   "nbconvert_exporter": "python",
   "pygments_lexer": "ipython3",
   "version": "3.8.3"
  }
 },
 "nbformat": 4,
 "nbformat_minor": 4
}
